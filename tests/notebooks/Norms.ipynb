{
 "cells": [
  {
   "cell_type": "code",
   "execution_count": null,
   "id": "825ae876-77d5-414a-ae32-a9e9366497f5",
   "metadata": {
    "ExecuteTime": {
     "end_time": "2023-11-22T01:54:25.835003Z",
     "start_time": "2023-11-22T01:54:25.775930Z"
    }
   },
   "outputs": [],
   "source": [
    "import fuzzylite as fl\n",
    "import numpy as np\n",
    "\n",
    "import plotly\n",
    "import plotly.express as px\n",
    "import plotly.graph_objects as go\n",
    "\n",
    "from pathlib import Path\n",
    "\n",
    "from IPython.display import display, HTML, SVG\n",
    "\n",
    "plotly.offline.init_notebook_mode()\n",
    "display(\n",
    "    HTML(\n",
    "        '<script type=\"text/javascript\" async src=\"https://cdnjs.cloudflare.com/ajax/libs/mathjax/2.7.1/MathJax.js?config=TeX-MML-AM_SVG\"></script>'\n",
    "    )\n",
    ")"
   ]
  },
  {
   "cell_type": "code",
   "execution_count": null,
   "id": "07a93eab-ce8b-40d1-8080-d006131ed691",
   "metadata": {
    "ExecuteTime": {
     "end_time": "2023-11-22T02:41:05.992069Z",
     "start_time": "2023-11-22T02:41:05.987876Z"
    }
   },
   "outputs": [],
   "source": [
    "x = np.linspace(0, 1, 11)\n",
    "y = np.flip(x)\n",
    "xy = np.transpose([np.tile(x, len(y)), np.repeat(y, len(x))])\n",
    "z = fl.AlgebraicProduct().compute(xy[:, 0], xy[:, 1]).reshape((-1, len(x)))\n",
    "# z"
   ]
  },
  {
   "cell_type": "code",
   "execution_count": null,
   "id": "b6952030-960a-4428-8411-bdadfded9304",
   "metadata": {
    "ExecuteTime": {
     "end_time": "2023-11-22T04:13:42.852896Z",
     "start_time": "2023-11-22T04:13:42.846183Z"
    }
   },
   "outputs": [],
   "source": [
    "def show(norm: fl.Norm) -> SVG:\n",
    "    y = np.flip(x)\n",
    "    xy = np.transpose([np.tile(x, len(y)), np.repeat(y, len(x))])\n",
    "    z = norm.compute(xy[:, 0], xy[:, 1]).reshape((-1, len(x)))\n",
    "    fig = px.imshow(z, x=x, y=y, origin=\"lower\", color_continuous_scale=px.colors.sequential.gray_r)\n",
    "\n",
    "    fig.update_layout(\n",
    "        autosize=False,\n",
    "        width=400,\n",
    "        height=400,\n",
    "        yaxis_title=\"$b$\",\n",
    "        xaxis_title=\"$a$\",\n",
    "        #         xaxis_range=[min(x), max(x)],\n",
    "        #         yaxis_range=[min(y), max(y)],\n",
    "        title=None,  # term.name,\n",
    "        title_x=0.5,\n",
    "        title_y=0.5,\n",
    "    )\n",
    "    fig.update_xaxes(autorangeoptions_include=[min(x), max(x)])\n",
    "    fig.update_xaxes(autorangeoptions_include=[min(y), max(y)])\n",
    "    return SVG(fig.to_image(format=\"svg\"))"
   ]
  },
  {
   "cell_type": "code",
   "execution_count": null,
   "id": "9d2ae756-490a-43b7-b0e0-8c079772170e",
   "metadata": {
    "ExecuteTime": {
     "end_time": "2023-11-22T04:13:44.915008Z",
     "start_time": "2023-11-22T04:13:44.305065Z"
    },
    "scrolled": false
   },
   "outputs": [],
   "source": [
    "# TNorms\n",
    "for norm in fl.TNormFactory().constructors.values():\n",
    "    print(norm())\n",
    "    plot = show(norm())\n",
    "    display(plot)\n",
    "    Path(\"../../docs/image/norm/T-\" + fl.Op.class_name(norm) + \".svg\").write_text(plot.data)"
   ]
  },
  {
   "cell_type": "code",
   "execution_count": null,
   "id": "b06c3b38",
   "metadata": {
    "ExecuteTime": {
     "end_time": "2023-11-22T04:13:46.280761Z",
     "start_time": "2023-11-22T04:13:45.492423Z"
    },
    "scrolled": false
   },
   "outputs": [],
   "source": [
    "# SNorms\n",
    "for norm in fl.SNormFactory().constructors.values():\n",
    "    print(norm())\n",
    "    plot = show(norm())\n",
    "    display(plot)\n",
    "    Path(\"../../docs/image/norm/S-\" + fl.Op.class_name(norm) + \".svg\").write_text(plot.data)"
   ]
  },
  {
   "cell_type": "code",
   "execution_count": null,
   "id": "dbacfc93",
   "metadata": {},
   "outputs": [],
   "source": []
  }
 ],
 "metadata": {
  "kernelspec": {
   "display_name": "Python 3 (ipykernel)",
   "language": "python",
   "name": "python3"
  },
  "language_info": {
   "codemirror_mode": {
    "name": "ipython",
    "version": 3
   },
   "file_extension": ".py",
   "mimetype": "text/x-python",
   "name": "python",
   "nbconvert_exporter": "python",
   "pygments_lexer": "ipython3",
   "version": "3.9.18"
  },
  "toc": {
   "base_numbering": 1,
   "nav_menu": {},
   "number_sections": true,
   "sideBar": true,
   "skip_h1_title": false,
   "title_cell": "Table of Contents",
   "title_sidebar": "Contents",
   "toc_cell": false,
   "toc_position": {},
   "toc_section_display": true,
   "toc_window_display": true
  }
 },
 "nbformat": 4,
 "nbformat_minor": 5
}
